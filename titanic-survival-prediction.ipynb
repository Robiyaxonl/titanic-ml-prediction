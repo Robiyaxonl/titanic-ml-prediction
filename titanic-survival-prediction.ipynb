{
 "cells": [
  {
   "cell_type": "markdown",
   "id": "8929c2b4",
   "metadata": {},
   "source": [
    "# 🚢 Titanic Survival Prediction\n",
    "Using Scikit-learn to predict passenger survival based on tabular data."
   ]
  },
  {
   "cell_type": "code",
   "execution_count": null,
   "id": "62b5c6af",
   "metadata": {},
   "outputs": [],
   "source": [
    "import pandas as pd\n",
    "import seaborn as sns\n",
    "import matplotlib.pyplot as plt\n",
    "from sklearn.model_selection import train_test_split\n",
    "from sklearn.linear_model import LogisticRegression\n",
    "from sklearn.tree import DecisionTreeClassifier\n",
    "from sklearn.metrics import accuracy_score, classification_report"
   ]
  },
  {
   "cell_type": "markdown",
   "id": "a3948866",
   "metadata": {},
   "source": [
    "## 🔍 Load Dataset"
   ]
  },
  {
   "cell_type": "code",
   "execution_count": null,
   "id": "cf5bc84b",
   "metadata": {},
   "outputs": [],
   "source": [
    "df = sns.load_dataset(\"titanic\")\n",
    "df.head()"
   ]
  },
  {
   "cell_type": "markdown",
   "id": "4974d804",
   "metadata": {},
   "source": [
    "## 🧹 Data Preprocessing"
   ]
  },
  {
   "cell_type": "code",
   "execution_count": null,
   "id": "73e4e569",
   "metadata": {},
   "outputs": [],
   "source": [
    "df = df.dropna(subset=[\"survived\"])\n",
    "features = [\"pclass\", \"sex\", \"age\", \"sibsp\", \"parch\", \"fare\", \"embarked\"]\n",
    "df = df[features + [\"survived\"]]\n",
    "df = df.dropna()\n",
    "df[\"sex\"] = df[\"sex\"].map({\"male\": 0, \"female\": 1})\n",
    "df[\"embarked\"] = df[\"embarked\"].map({\"S\": 0, \"C\": 1, \"Q\": 2})\n",
    "X = df.drop(\"survived\", axis=1)\n",
    "y = df[\"survived\"]\n",
    "X_train, X_test, y_train, y_test = train_test_split(X, y, test_size=0.2, random_state=42)"
   ]
  },
  {
   "cell_type": "markdown",
   "id": "2434cb8d",
   "metadata": {},
   "source": [
    "## 🤖 Model Training and Evaluation"
   ]
  },
  {
   "cell_type": "code",
   "execution_count": null,
   "id": "29885dc3",
   "metadata": {},
   "outputs": [],
   "source": [
    "log_model = LogisticRegression(max_iter=1000)\n",
    "log_model.fit(X_train, y_train)\n",
    "log_preds = log_model.predict(X_test)\n",
    "\n",
    "tree_model = DecisionTreeClassifier()\n",
    "tree_model.fit(X_train, y_train)\n",
    "tree_preds = tree_model.predict(X_test)\n",
    "\n",
    "print(\"Logistic Regression Accuracy:\", accuracy_score(y_test, log_preds))\n",
    "print(\"Decision Tree Accuracy:\", accuracy_score(y_test, tree_preds))"
   ]
  },
  {
   "cell_type": "markdown",
   "id": "9185ce3b",
   "metadata": {},
   "source": [
    "## 📊 Classification Report"
   ]
  },
  {
   "cell_type": "code",
   "execution_count": null,
   "id": "c8a49ecc",
   "metadata": {},
   "outputs": [],
   "source": [
    "print(\"Logistic Regression Report:\")\n",
    "print(classification_report(y_test, log_preds))\n",
    "\n",
    "print(\"Decision Tree Report:\")\n",
    "print(classification_report(y_test, tree_preds))"
   ]
  },
  {
   "cell_type": "markdown",
   "id": "e09dca02",
   "metadata": {},
   "source": [
    "## 📌 Conclusion\n",
    "Logistic regression and decision tree classifiers both offer insights into survival prediction. Future work includes ensemble models and deployment."
   ]
  }
 ],
 "metadata": {},
 "nbformat": 4,
 "nbformat_minor": 5
}
